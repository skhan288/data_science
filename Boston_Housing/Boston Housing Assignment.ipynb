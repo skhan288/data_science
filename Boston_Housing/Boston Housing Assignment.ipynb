{
 "cells": [
  {
   "cell_type": "code",
   "execution_count": 1,
   "metadata": {},
   "outputs": [
    {
     "name": "stderr",
     "output_type": "stream",
     "text": [
      "/Users/SalmanKhan/anaconda/lib/python3.6/site-packages/sklearn/cross_validation.py:44: DeprecationWarning: This module was deprecated in version 0.18 in favor of the model_selection module into which all the refactored classes and functions are moved. Also note that the interface of the new CV iterators are different from that of this module. This module will be removed in 0.20.\n",
      "  \"This module will be removed in 0.20.\", DeprecationWarning)\n"
     ]
    }
   ],
   "source": [
    "from sklearn import datasets\n",
    "import pandas as pd\n",
    "from sklearn.preprocessing import StandardScaler\n",
    "from sklearn.cross_validation import train_test_split\n",
    "from sklearn.metrics import mean_squared_error\n",
    "from sklearn.metrics import r2_score\n",
    "from sklearn.linear_model import LinearRegression"
   ]
  },
  {
   "cell_type": "code",
   "execution_count": 2,
   "metadata": {},
   "outputs": [
    {
     "name": "stdout",
     "output_type": "stream",
     "text": [
      "Boston House Prices dataset\n",
      "===========================\n",
      "\n",
      "Notes\n",
      "------\n",
      "Data Set Characteristics:  \n",
      "\n",
      "    :Number of Instances: 506 \n",
      "\n",
      "    :Number of Attributes: 13 numeric/categorical predictive\n",
      "    \n",
      "    :Median Value (attribute 14) is usually the target\n",
      "\n",
      "    :Attribute Information (in order):\n",
      "        - CRIM     per capita crime rate by town\n",
      "        - ZN       proportion of residential land zoned for lots over 25,000 sq.ft.\n",
      "        - INDUS    proportion of non-retail business acres per town\n",
      "        - CHAS     Charles River dummy variable (= 1 if tract bounds river; 0 otherwise)\n",
      "        - NOX      nitric oxides concentration (parts per 10 million)\n",
      "        - RM       average number of rooms per dwelling\n",
      "        - AGE      proportion of owner-occupied units built prior to 1940\n",
      "        - DIS      weighted distances to five Boston employment centres\n",
      "        - RAD      index of accessibility to radial highways\n",
      "        - TAX      full-value property-tax rate per $10,000\n",
      "        - PTRATIO  pupil-teacher ratio by town\n",
      "        - B        1000(Bk - 0.63)^2 where Bk is the proportion of blacks by town\n",
      "        - LSTAT    % lower status of the population\n",
      "        - MEDV     Median value of owner-occupied homes in $1000's\n",
      "\n",
      "    :Missing Attribute Values: None\n",
      "\n",
      "    :Creator: Harrison, D. and Rubinfeld, D.L.\n",
      "\n",
      "This is a copy of UCI ML housing dataset.\n",
      "http://archive.ics.uci.edu/ml/datasets/Housing\n",
      "\n",
      "\n",
      "This dataset was taken from the StatLib library which is maintained at Carnegie Mellon University.\n",
      "\n",
      "The Boston house-price data of Harrison, D. and Rubinfeld, D.L. 'Hedonic\n",
      "prices and the demand for clean air', J. Environ. Economics & Management,\n",
      "vol.5, 81-102, 1978.   Used in Belsley, Kuh & Welsch, 'Regression diagnostics\n",
      "...', Wiley, 1980.   N.B. Various transformations are used in the table on\n",
      "pages 244-261 of the latter.\n",
      "\n",
      "The Boston house-price data has been used in many machine learning papers that address regression\n",
      "problems.   \n",
      "     \n",
      "**References**\n",
      "\n",
      "   - Belsley, Kuh & Welsch, 'Regression diagnostics: Identifying Influential Data and Sources of Collinearity', Wiley, 1980. 244-261.\n",
      "   - Quinlan,R. (1993). Combining Instance-Based and Model-Based Learning. In Proceedings on the Tenth International Conference of Machine Learning, 236-243, University of Massachusetts, Amherst. Morgan Kaufmann.\n",
      "   - many more! (see http://archive.ics.uci.edu/ml/datasets/Housing)\n",
      "\n"
     ]
    }
   ],
   "source": [
    "bean = datasets.load_boston()\n",
    "print(bean.DESCR)"
   ]
  },
  {
   "cell_type": "code",
   "execution_count": 3,
   "metadata": {
    "collapsed": true
   },
   "outputs": [],
   "source": [
    "\n",
    "def load_boston():\n",
    "    scaler = StandardScaler()\n",
    "    boston = datasets.load_boston()\n",
    "    X=boston.data\n",
    "    y=boston.target\n",
    "    X = scaler.fit_transform(X)\n",
    "    return train_test_split(X,y)"
   ]
  },
  {
   "cell_type": "code",
   "execution_count": 9,
   "metadata": {},
   "outputs": [
    {
     "ename": "ValueError",
     "evalue": "not enough values to unpack (expected 6, got 4)",
     "output_type": "error",
     "traceback": [
      "\u001b[0;31m---------------------------------------------------------------------------\u001b[0m",
      "\u001b[0;31mValueError\u001b[0m                                Traceback (most recent call last)",
      "\u001b[0;32m<ipython-input-9-a34059d8600c>\u001b[0m in \u001b[0;36m<module>\u001b[0;34m()\u001b[0m\n\u001b[0;32m----> 1\u001b[0;31m \u001b[0mX_train\u001b[0m\u001b[0;34m,\u001b[0m \u001b[0mX_test\u001b[0m\u001b[0;34m,\u001b[0m \u001b[0my_train\u001b[0m\u001b[0;34m,\u001b[0m \u001b[0my_test\u001b[0m\u001b[0;34m,\u001b[0m \u001b[0my_truth\u001b[0m\u001b[0;34m,\u001b[0m \u001b[0my_pred\u001b[0m \u001b[0;34m=\u001b[0m \u001b[0mload_boston\u001b[0m\u001b[0;34m(\u001b[0m\u001b[0;34m)\u001b[0m\u001b[0;34m\u001b[0m\u001b[0m\n\u001b[0m",
      "\u001b[0;31mValueError\u001b[0m: not enough values to unpack (expected 6, got 4)"
     ]
    }
   ],
   "source": [
    "X_train, X_test, y_train, y_test = load_boston()"
   ]
  },
  {
   "cell_type": "code",
   "execution_count": 5,
   "metadata": {},
   "outputs": [
    {
     "data": {
      "text/plain": [
       "(379, 13)"
      ]
     },
     "execution_count": 5,
     "metadata": {},
     "output_type": "execute_result"
    }
   ],
   "source": [
    "X_train.shape"
   ]
  },
  {
   "cell_type": "code",
   "execution_count": 6,
   "metadata": {},
   "outputs": [
    {
     "data": {
      "text/plain": [
       "LinearRegression(copy_X=True, fit_intercept=True, n_jobs=1, normalize=False)"
      ]
     },
     "execution_count": 6,
     "metadata": {},
     "output_type": "execute_result"
    }
   ],
   "source": [
    "clf = LinearRegression()\n",
    "clf.fit(X_train, y_train)"
   ]
  },
  {
   "cell_type": "code",
   "execution_count": 7,
   "metadata": {},
   "outputs": [
    {
     "data": {
      "text/plain": [
       "[(36.5, 35.933113246800303),\n",
       " (25.300000000000001, 24.918002560168759),\n",
       " (22.899999999999999, 29.523664464602412),\n",
       " (25.0, 29.115582733043329),\n",
       " (19.5, 19.808673063114519),\n",
       " (44.0, 37.780663952085305),\n",
       " (17.399999999999999, 23.492421394363607),\n",
       " (21.600000000000001, 25.271968238229135),\n",
       " (50.0, 25.312622741150314),\n",
       " (43.799999999999997, 34.678360338307044),\n",
       " (10.199999999999999, 6.7930810842329876),\n",
       " (13.4, 14.25536045685973),\n",
       " (18.899999999999999, 19.473369612174746),\n",
       " (23.699999999999999, 11.163937648328551),\n",
       " (27.0, 34.137820127290318),\n",
       " (9.6999999999999993, 10.125379885381481),\n",
       " (7.2000000000000002, 8.3628800567826094),\n",
       " (26.5, 25.182559162248243),\n",
       " (18.699999999999999, 20.810867108067864),\n",
       " (14.1, 16.489808543666022),\n",
       " (9.5999999999999996, 15.125160235474596),\n",
       " (15.1, 17.397264179939377),\n",
       " (21.100000000000001, 22.31723211950413),\n",
       " (32.700000000000003, 30.19055142235905),\n",
       " (14.800000000000001, 14.756198969606739),\n",
       " (26.600000000000001, 21.445731045754584),\n",
       " (22.399999999999999, 23.626696744139846),\n",
       " (17.800000000000001, 22.800961195413905),\n",
       " (20.699999999999999, 21.160577398509233),\n",
       " (32.200000000000003, 31.583568862213536),\n",
       " (17.600000000000001, 16.64289618539927),\n",
       " (23.199999999999999, 22.897693937015276),\n",
       " (32.0, 33.83186537331769),\n",
       " (23.699999999999999, 27.253839921568161),\n",
       " (19.100000000000001, 20.119552176417727),\n",
       " (24.300000000000001, 19.933649565276891),\n",
       " (19.399999999999999, 19.61115631127505),\n",
       " (22.800000000000001, 24.380352118508064),\n",
       " (12.5, 19.576438869559858),\n",
       " (20.800000000000001, 18.088791683046296),\n",
       " (21.899999999999999, 15.65104868078687),\n",
       " (19.399999999999999, 23.424735702044703),\n",
       " (22.199999999999999, 24.144438290428759),\n",
       " (23.300000000000001, 28.593141504034634),\n",
       " (18.399999999999999, 15.947906097067662),\n",
       " (24.100000000000001, 20.100549322654942),\n",
       " (24.600000000000001, 29.032023483488011),\n",
       " (17.5, 16.729035334948662),\n",
       " (15.199999999999999, 19.721067968695404),\n",
       " (19.399999999999999, 23.111092157572767),\n",
       " (14.1, 19.816578332360265),\n",
       " (31.600000000000001, 32.66157789620884),\n",
       " (7.5, 14.316027751602794),\n",
       " (20.5, 24.333218550162634),\n",
       " (16.399999999999999, 19.429449261627337),\n",
       " (24.300000000000001, 29.795869262790717),\n",
       " (18.899999999999999, 23.664730824095667),\n",
       " (23.5, 30.16294109339217),\n",
       " (19.5, 17.037996919343833),\n",
       " (27.5, 24.264843819715196),\n",
       " (16.100000000000001, 18.75948983119531),\n",
       " (16.600000000000001, 15.37026494498264),\n",
       " (33.399999999999999, 28.270154923693021),\n",
       " (16.600000000000001, 18.603777861640456),\n",
       " (24.600000000000001, 24.134660487761145),\n",
       " (20.399999999999999, 19.093840801387575),\n",
       " (6.2999999999999998, 11.19877026220589),\n",
       " (37.600000000000001, 37.89610250048689),\n",
       " (44.799999999999997, 38.638848498880243),\n",
       " (23.300000000000001, 21.602318224228558),\n",
       " (22.5, 22.006931242856645),\n",
       " (29.600000000000001, 24.597557909519036),\n",
       " (28.199999999999999, 32.807674604456516),\n",
       " (50.0, 43.418026981900141),\n",
       " (34.899999999999999, 29.529755616665824),\n",
       " (21.699999999999999, 23.642047044259396),\n",
       " (10.800000000000001, 11.876848868764519),\n",
       " (21.199999999999999, 21.515717048781479),\n",
       " (19.199999999999999, 20.246340352581523),\n",
       " (23.100000000000001, 11.426330474396705),\n",
       " (21.399999999999999, 23.724818858030975),\n",
       " (23.100000000000001, 19.769841170104254),\n",
       " (26.600000000000001, 27.728598647595476),\n",
       " (31.5, 32.883676963019745),\n",
       " (13.300000000000001, 16.967465501204387),\n",
       " (36.200000000000003, 27.59790220728695),\n",
       " (10.5, 12.723557060034418),\n",
       " (20.600000000000001, 27.845466585861878),\n",
       " (18.300000000000001, 18.763625977567163),\n",
       " (27.100000000000001, 28.090901582314341),\n",
       " (21.199999999999999, 22.984297925852637),\n",
       " (20.300000000000001, 23.590377957695488),\n",
       " (17.0, 23.117952239357336),\n",
       " (14.6, 19.726872116743738),\n",
       " (25.0, 26.313604289785662),\n",
       " (19.399999999999999, 17.503038627400795),\n",
       " (7.0, 8.4487599057840015),\n",
       " (50.0, 41.047998511223213),\n",
       " (16.300000000000001, 12.506326439569781),\n",
       " (25.0, 22.58518367601522),\n",
       " (12.1, 18.600534059475081),\n",
       " (21.699999999999999, 20.994541531938076),\n",
       " (14.5, 19.148102823007981),\n",
       " (21.899999999999999, 23.893517553141137),\n",
       " (20.699999999999999, 26.593885374490224),\n",
       " (29.100000000000001, 30.329769384985966),\n",
       " (23.199999999999999, 25.331978151480108),\n",
       " (24.399999999999999, 28.61716457739815),\n",
       " (16.100000000000001, 22.331059692990774),\n",
       " (28.399999999999999, 30.776142061513816),\n",
       " (5.5999999999999996, 12.170591153279839),\n",
       " (10.199999999999999, 17.177091118899103),\n",
       " (23.800000000000001, 27.313148532723798),\n",
       " (22.0, 27.17825194902737),\n",
       " (21.199999999999999, 23.21424973938803),\n",
       " (19.800000000000001, 18.432428697555693),\n",
       " (31.699999999999999, 33.529777543531999),\n",
       " (12.800000000000001, 13.155761947611756),\n",
       " (10.9, 14.560327633056779),\n",
       " (26.600000000000001, 27.676842974295177),\n",
       " (23.300000000000001, 27.73511881515704),\n",
       " (20.100000000000001, 15.835888249525549),\n",
       " (15.0, 15.998627885655534),\n",
       " (13.4, 17.312525367699358),\n",
       " (22.0, 20.737476827520734),\n",
       " (26.699999999999999, 34.21353964060431),\n",
       " (18.100000000000001, 17.524968232432066)]"
      ]
     },
     "execution_count": 7,
     "metadata": {},
     "output_type": "execute_result"
    }
   ],
   "source": [
    "list(zip (y_test, clf.predict(X_test)))"
   ]
  },
  {
   "cell_type": "code",
   "execution_count": 10,
   "metadata": {},
   "outputs": [],
   "source": [
    "y_pred = clf.predict(X_test)"
   ]
  },
  {
   "cell_type": "markdown",
   "metadata": {},
   "source": [
    "#calculating R2"
   ]
  },
  {
   "cell_type": "code",
   "execution_count": 12,
   "metadata": {},
   "outputs": [
    {
     "data": {
      "text/plain": [
       "0.69970817596940926"
      ]
     },
     "execution_count": 12,
     "metadata": {},
     "output_type": "execute_result"
    }
   ],
   "source": [
    "r2_score(y_test, y_pred)"
   ]
  },
  {
   "cell_type": "markdown",
   "metadata": {},
   "source": [
    "#Calculating Mean Squiared Error"
   ]
  },
  {
   "cell_type": "code",
   "execution_count": 13,
   "metadata": {},
   "outputs": [
    {
     "data": {
      "text/plain": [
       "22.128480123063508"
      ]
     },
     "execution_count": 13,
     "metadata": {},
     "output_type": "execute_result"
    }
   ],
   "source": [
    "mean_squared_error(y_test, y_pred)"
   ]
  },
  {
   "cell_type": "markdown",
   "metadata": {},
   "source": [
    "#Implemneting sklearn.linear_model.Lasso."
   ]
  },
  {
   "cell_type": "code",
   "execution_count": 15,
   "metadata": {},
   "outputs": [],
   "source": [
    "from sklearn import linear_model\n",
    "clf1 = linear_model.Lasso(alpha=0.1)"
   ]
  },
  {
   "cell_type": "code",
   "execution_count": 16,
   "metadata": {},
   "outputs": [
    {
     "data": {
      "text/plain": [
       "Lasso(alpha=0.1, copy_X=True, fit_intercept=True, max_iter=1000,\n",
       "   normalize=False, positive=False, precompute=False, random_state=None,\n",
       "   selection='cyclic', tol=0.0001, warm_start=False)"
      ]
     },
     "execution_count": 16,
     "metadata": {},
     "output_type": "execute_result"
    }
   ],
   "source": [
    "clf1.fit(X_train, y_train)"
   ]
  },
  {
   "cell_type": "code",
   "execution_count": 17,
   "metadata": {},
   "outputs": [
    {
     "name": "stdout",
     "output_type": "stream",
     "text": [
      "[-0.71895238  0.69333007  0.          0.87758    -1.7498605   2.91505239\n",
      "  0.         -2.52502767  1.42177516 -0.9215988  -2.03163793  0.64150126\n",
      " -3.49464095]\n"
     ]
    }
   ],
   "source": [
    "print(clf1.coef_)"
   ]
  },
  {
   "cell_type": "code",
   "execution_count": 18,
   "metadata": {},
   "outputs": [
    {
     "name": "stdout",
     "output_type": "stream",
     "text": [
      "22.6984939718\n"
     ]
    }
   ],
   "source": [
    "print(clf1.intercept_)"
   ]
  },
  {
   "cell_type": "code",
   "execution_count": 19,
   "metadata": {},
   "outputs": [
    {
     "data": {
      "text/plain": [
       "[(36.5, 35.261204507439615),\n",
       " (25.300000000000001, 25.181466519225403),\n",
       " (22.899999999999999, 27.991387073572433),\n",
       " (25.0, 28.319089368025615),\n",
       " (19.5, 19.819836168043484),\n",
       " (44.0, 36.446560045292664),\n",
       " (17.399999999999999, 22.992244525486356),\n",
       " (21.600000000000001, 25.170104509256571),\n",
       " (50.0, 24.271467604872527),\n",
       " (43.799999999999997, 35.435879066590473),\n",
       " (10.199999999999999, 6.4649887537787691),\n",
       " (13.4, 13.920213619596247),\n",
       " (18.899999999999999, 19.600494246137075),\n",
       " (23.699999999999999, 11.359913940659171),\n",
       " (27.0, 33.458217194710258),\n",
       " (9.6999999999999993, 9.7154493319965454),\n",
       " (7.2000000000000002, 8.1779885769703871),\n",
       " (26.5, 25.93274840599496),\n",
       " (18.699999999999999, 21.231567616185039),\n",
       " (14.1, 16.739824558635718),\n",
       " (9.5999999999999996, 15.650900921644343),\n",
       " (15.1, 16.906250312855036),\n",
       " (21.100000000000001, 21.684636430583772),\n",
       " (32.700000000000003, 31.080697168561024),\n",
       " (14.800000000000001, 15.453841167114346),\n",
       " (26.600000000000001, 23.610082715544831),\n",
       " (22.399999999999999, 23.30513818653391),\n",
       " (17.800000000000001, 22.998151781448087),\n",
       " (20.699999999999999, 21.675342965356581),\n",
       " (32.200000000000003, 31.419978340391125),\n",
       " (17.600000000000001, 16.656031132860697),\n",
       " (23.199999999999999, 22.186312892630458),\n",
       " (32.0, 32.792012593046827),\n",
       " (23.699999999999999, 27.317562584173974),\n",
       " (19.100000000000001, 19.533779470675672),\n",
       " (24.300000000000001, 20.423401729160535),\n",
       " (19.399999999999999, 20.110447921639299),\n",
       " (22.800000000000001, 24.5465266751232),\n",
       " (12.5, 19.187177929149396),\n",
       " (20.800000000000001, 17.746655359477494),\n",
       " (21.899999999999999, 14.973901875402177),\n",
       " (19.399999999999999, 23.08018733757234),\n",
       " (22.199999999999999, 23.730077888678323),\n",
       " (23.300000000000001, 28.215973706254221),\n",
       " (18.399999999999999, 16.434371487184627),\n",
       " (24.100000000000001, 22.126823221276261),\n",
       " (24.600000000000001, 28.796873172359895),\n",
       " (17.5, 17.309969331985833),\n",
       " (15.199999999999999, 19.655570132263367),\n",
       " (19.399999999999999, 23.793195966960603),\n",
       " (14.1, 19.391318734762862),\n",
       " (31.600000000000001, 31.980415725809131),\n",
       " (7.5, 14.592959134009353),\n",
       " (20.5, 23.856734392657422),\n",
       " (16.399999999999999, 19.546350613337676),\n",
       " (24.300000000000001, 28.928785707454448),\n",
       " (18.899999999999999, 23.323776863273629),\n",
       " (23.5, 29.69882942531898),\n",
       " (19.5, 17.394875328073649),\n",
       " (27.5, 24.936581797636048),\n",
       " (16.100000000000001, 18.617526005630289),\n",
       " (16.600000000000001, 15.937238589211146),\n",
       " (33.399999999999999, 28.866389608247886),\n",
       " (16.600000000000001, 18.337330698424218),\n",
       " (24.600000000000001, 24.815739626215066),\n",
       " (20.399999999999999, 19.82433807361636),\n",
       " (6.2999999999999998, 11.158111348155408),\n",
       " (37.600000000000001, 37.314941552616361),\n",
       " (44.799999999999997, 38.133621055803246),\n",
       " (23.300000000000001, 21.620031111463408),\n",
       " (22.5, 22.082181966523109),\n",
       " (29.600000000000001, 25.678241385420343),\n",
       " (28.199999999999999, 31.175994995081982),\n",
       " (50.0, 43.104650998336098),\n",
       " (34.899999999999999, 30.353367392608384),\n",
       " (21.699999999999999, 23.083470420320037),\n",
       " (10.800000000000001, 12.080580411597504),\n",
       " (21.199999999999999, 21.959691092933461),\n",
       " (19.199999999999999, 20.731602256684344),\n",
       " (23.100000000000001, 10.218069448330866),\n",
       " (21.399999999999999, 21.442088941370656),\n",
       " (23.100000000000001, 20.733706646000748),\n",
       " (26.600000000000001, 28.168079263011304),\n",
       " (31.5, 32.542512787594468),\n",
       " (13.300000000000001, 16.167638572709166),\n",
       " (36.200000000000003, 26.852653465041399),\n",
       " (10.5, 13.076665740317063),\n",
       " (20.600000000000001, 26.073827923144179),\n",
       " (18.300000000000001, 19.375958203293361),\n",
       " (27.100000000000001, 27.580135603388456),\n",
       " (21.199999999999999, 22.978022922989734),\n",
       " (20.300000000000001, 23.395585994916566),\n",
       " (17.0, 24.143623684173477),\n",
       " (14.6, 19.045444486086083),\n",
       " (25.0, 25.854632958822023),\n",
       " (19.399999999999999, 17.385462124079261),\n",
       " (7.0, 10.676800798403663),\n",
       " (50.0, 40.587839840996722),\n",
       " (16.300000000000001, 11.98915158788769),\n",
       " (25.0, 22.726613025453336),\n",
       " (12.1, 18.309982525933609),\n",
       " (21.699999999999999, 21.206652690541134),\n",
       " (14.5, 18.570309260204915),\n",
       " (21.899999999999999, 24.290595043865011),\n",
       " (20.699999999999999, 25.740897450404464),\n",
       " (29.100000000000001, 29.338617144116039),\n",
       " (23.199999999999999, 25.397534964887686),\n",
       " (24.399999999999999, 27.772294366380734),\n",
       " (16.100000000000001, 21.734336663764772),\n",
       " (28.399999999999999, 29.272379685274373),\n",
       " (5.5999999999999996, 12.326808565458665),\n",
       " (10.199999999999999, 16.905930570620995),\n",
       " (23.800000000000001, 26.800829424888573),\n",
       " (22.0, 27.334575899872895),\n",
       " (21.199999999999999, 23.817873818573101),\n",
       " (19.800000000000001, 18.580103945785623),\n",
       " (31.699999999999999, 33.035459204965605),\n",
       " (12.800000000000001, 13.063258538867592),\n",
       " (10.9, 15.387666263709425),\n",
       " (26.600000000000001, 27.698028738467254),\n",
       " (23.300000000000001, 26.865617450382267),\n",
       " (20.100000000000001, 18.194360213467011),\n",
       " (15.0, 16.237368039702314),\n",
       " (13.4, 17.622335357396619),\n",
       " (22.0, 21.588260783393988),\n",
       " (26.699999999999999, 33.439618628745748),\n",
       " (18.100000000000001, 18.073546137651164)]"
      ]
     },
     "execution_count": 19,
     "metadata": {},
     "output_type": "execute_result"
    }
   ],
   "source": [
    "list(zip (y_test, clf1.predict(X_test)))"
   ]
  },
  {
   "cell_type": "code",
   "execution_count": 20,
   "metadata": {},
   "outputs": [
    {
     "data": {
      "text/plain": [
       "0.71074421815586741"
      ]
     },
     "execution_count": 20,
     "metadata": {},
     "output_type": "execute_result"
    }
   ],
   "source": [
    "r2_score(y_test, clf1.predict(X_test))"
   ]
  },
  {
   "cell_type": "code",
   "execution_count": 22,
   "metadata": {},
   "outputs": [
    {
     "data": {
      "text/plain": [
       "21.315235070692538"
      ]
     },
     "execution_count": 22,
     "metadata": {},
     "output_type": "execute_result"
    }
   ],
   "source": [
    "mean_squared_error(y_test, clf1.predict(X_test))"
   ]
  },
  {
   "cell_type": "code",
   "execution_count": 24,
   "metadata": {},
   "outputs": [
    {
     "data": {
      "text/plain": [
       "4.6168425434156335"
      ]
     },
     "execution_count": 24,
     "metadata": {},
     "output_type": "execute_result"
    }
   ],
   "source": [
    "import math\n",
    "math.sqrt(mean_squared_error(y_test, clf1.predict(X_test)))"
   ]
  },
  {
   "cell_type": "code",
   "execution_count": null,
   "metadata": {
    "collapsed": true
   },
   "outputs": [],
   "source": []
  }
 ],
 "metadata": {
  "kernelspec": {
   "display_name": "Python 3",
   "language": "python",
   "name": "python3"
  },
  "language_info": {
   "codemirror_mode": {
    "name": "ipython",
    "version": 3
   },
   "file_extension": ".py",
   "mimetype": "text/x-python",
   "name": "python",
   "nbconvert_exporter": "python",
   "pygments_lexer": "ipython3",
   "version": "3.6.1"
  }
 },
 "nbformat": 4,
 "nbformat_minor": 2
}
