{
 "cells": [
  {
   "cell_type": "code",
   "execution_count": 1,
   "metadata": {},
   "outputs": [
    {
     "name": "stderr",
     "output_type": "stream",
     "text": [
      "Downloading dataset from http://people.csail.mit.edu/jrennie/20Newsgroups/20news-bydate.tar.gz (14 MB)\n"
     ]
    }
   ],
   "source": [
    "from sklearn.datasets import fetch_20newsgroups\n",
    "categories = ['rec.sport.baseball']\n",
    "dataset = fetch_20newsgroups(subset='all',shuffle=True, random_state=42, categories=categories)\n",
    "corpus = dataset.data"
   ]
  },
  {
   "cell_type": "code",
   "execution_count": 24,
   "metadata": {},
   "outputs": [
    {
     "data": {
      "text/plain": [
       "'From: steph@pegasus.cs.uiuc.edu (Dale Stephenson)\\nSubject: \"Seer\" Stephenson picks the A.L. East\\nSummary: The division has gone to the birds\\nKeywords: last chance for foolishness\\nArticle-I.D.: pegasus.steph.733989466\\nOrganization: University of Illinois, Dept. of Comp. Sci., Urbana, IL\\nLines: 95\\n\\nHaving run completely out of time, I\\'ve got to get my prophesies and\\npredictions for the A.L. out.  Qualifications -- one of the worse\\nfinishes in last year\\'s prediction contest.\\n\\nAL East -- 1993\\n\\n1.  Baltimore Orioles\\nWhy the Orioles?  Well, I pondered long and hard, and it all came down to\\nthis:\\n  -- The Blue Jays are going the wrong direction.\\n  -- Can\\'t bring myself to pick the Yankees\\n  -- Milwaukee was a fluke\\n  -- Indians aren\\'t ready to contend\\n  -- Red Sox were bad last year, and didn\\'t get any better\\n  -- Detroit\\'s pitching will be the new definition of \"replacement level\"\\n\"But you don\\'t really think the Orioles will win, do you.\"  No.  As a matter\\nof fact, I can\\'t see any team in the American League winning either division\\non paper (with the possible exception of the Yankees, who I hate).  But some-\\nbody has to win, so I pick the Orioles.  \"You don\\'t really think that Brady\\nAnderson is going to repeat, do you?\"  No.  I\\'m basing the Orioles prediction\\non the expectation of big years from Cal Ripken and Glenn Davis.  \"Glenn\\nDavis?  That\\'s insane\".  Yes.  So, without further ado:\\nSTRONG POINTS:  Hoiles, Ripken some years, Olson, getting rid of Billy Ripken.\\nWEAK POINTS:  Segui may start.  Valenzuela (the original 30-something) may be\\n  the fifth starter.  Oates puts his best hitters at the bottom of the lineup.\\n  (Does anybody else think that might be a calculated maneuver to minimize\\n  the effect of a slumping Ripken?  If you can\\'t move Ripken out of the #3\\n  spot, why not move the rest of the line up?)\\nWOULD BE A GOOD SIGN:  Glenn Davis wins comeback player of the year.\\nWOULD BE A BAD SIGN:  In a tight pennant race, team trades for Pecota.\\nObPrediction:  \"The Streak\" continues.  Harold Reynolds leads the team in\\n  caught stealing.\\n\\n2. New York Yankees.\\nSTRONG POINTS:  Abbot, Key, Perez.  Could have best pitching in American\\n  League.  Boggs should improve on Hayes.\\nWEAK POINTS:  Mattingly still considered best hitter.  The Steinbrenner \\n  factor.  (The Yankees lost to the Mets.  Can wholesale changes be far\\n  behind?)  Never count on rookie pitchers (i.e. Wickman & Millitello) to\\n  win a division.\\nWOULD BE A GOOD SIGN:  Boggs hits over .300\\nWOULD BE A BAD SIGN:  Howe gets arrested again.\\nObPrediction:  Mattingly won\\'t top a 700 OPS.\\n\\n3.  Toronto Blue Jays\\nSTRONG POINTS:  Management willing to make big deals.  Management has eerie\\n  power to convince other teams its prospects are not suspects.  Olerud.\\n  Guzman.  Alomar.\\nWEAK POINTS:  The Jackson for Bell trade has shaken my faith in Gillick.\\n  Losing Stewart may hurt rotation (that\\'s *really* a bad sign).  No one in\\n  the outfield can get on base.  Pitching is thin behind Guzman and Ward.\\nWOULD BE A GOOD SIGN:  Jack Morris considered Cy Young contender in August\\nWOULD BE A BAD SIGN:  Club makes no major deals in August.\\nObPrediction:  Morris will post better ERA and WHIP totals than last year.  And\\n  have a losing record.\\n\\n4.  Milwaukee Brewers\\nSTRONG POINTS:  Pitching staff was exceptional -- last year.\\nWEAK POINTS:  Molitor gone.  Surhoff at third?  Why?  Eldred can\\'t keep it up.\\nWOULD BE A GOOD SIGN:  Listach and Eldred play like last year.\\nWOULD BE BAD SIGN:  Bones plays like last year.\\nObPrediction:  Surhoff won\\'t finish the year at third.\\n\\n5.  Cleveland Indians\\nSTRONG POINTS:  Baerga, Belle, Nagy\\nWEAK POINTS:  Pitching staff thin -- losing Olin really hurts.  Starts Felix\\n  Fermin.\\nWOULD BE A GOOD SIGN:  Bielecki\\'s ERA is consistent with his Atlanta starts.\\nWOULD BE A BAD SIGN:  Ted Power -- bullpen ace.\\nObPrediction:  Alomar will be back on the DL by the all-star break.\\n\\n6.  Boston Red Sox\\nSTRONG POINTS:  Clemens, Viola, Clemens, Detroit, Clemens\\nWEAK POINTS:  Most incompetent GM in baseball.  Key free agent signing -- Andre\\n  Dawson.  Burks is gone -- Hatcher in center.\\nWOULD BE A GOOD SIGN:  Rainouts in between Clemens starts.\\nWOULD BE A BAD SIGN:  Clemens on the DL\\nObPrediction:  Russell will make Sox fans forget Reardon.  Interpret that how\\n  you will :->\\n\\n7.  Detroit Tigers\\nSTRONG POINTS:  Tettleton, Phillips, Whitaker\\nWEAK POINTS:  If Fielder keeps declining, he\\'ll be a shortstop this year.\\n  Worst rotation in baseball entirely replaced -- but not necessarily better.\\n  This year could be *very* ugly.\\nWOULD BE A GOOD SIGN:  Cecil Fielder deserving the MVP.\\nWOULD BE A BAD SIGN:  Cecil Fielder not whining about deserving an MVP.\\nObPrediction:  Cecil *won\\'t* lead the league in RBIs.\\n\\nOne more division to go....\\n-- \\nDale J. Stephenson |*| (steph@cs.uiuc.edu) |*| Baseball fanatic\\n\\n  \"It is considered good to look wise, especially when not \\n   overburdened with information\" -- J. Golden Kimball\\n'"
      ]
     },
     "execution_count": 24,
     "metadata": {},
     "output_type": "execute_result"
    }
   ],
   "source": [
    "corpus[2]"
   ]
  },
  {
   "cell_type": "code",
   "execution_count": 3,
   "metadata": {
    "collapsed": true
   },
   "outputs": [],
   "source": [
    "from bs4 import BeautifulSoup\n",
    "import nltk\n",
    "from nltk.corpus import stopwords\n",
    "from sklearn.feature_extraction.text import TfidfVectorizer\n",
    "from sklearn.decomposition import TruncatedSVD"
   ]
  },
  {
   "cell_type": "code",
   "execution_count": 4,
   "metadata": {},
   "outputs": [
    {
     "name": "stdout",
     "output_type": "stream",
     "text": [
      "[nltk_data] Downloading package stopwords to\n",
      "[nltk_data]     /Users/SalmanKhan/nltk_data...\n",
      "[nltk_data]   Unzipping corpora/stopwords.zip.\n"
     ]
    },
    {
     "data": {
      "text/plain": [
       "True"
      ]
     },
     "execution_count": 4,
     "metadata": {},
     "output_type": "execute_result"
    }
   ],
   "source": [
    "nltk.download('stopwords')"
   ]
  },
  {
   "cell_type": "code",
   "execution_count": 10,
   "metadata": {},
   "outputs": [],
   "source": [
    "stopset = set(stopwords.words('english'))\n"
   ]
  },
  {
   "cell_type": "code",
   "execution_count": 25,
   "metadata": {
    "collapsed": true
   },
   "outputs": [],
   "source": [
    "stopset.update(['\\n', '\\n1', '\\n2', '\\n6'])"
   ]
  },
  {
   "cell_type": "code",
   "execution_count": 13,
   "metadata": {
    "collapsed": true
   },
   "outputs": [],
   "source": [
    "vectorizer = TfidfVectorizer(stop_words=stopset,\n",
    "                                 use_idf=True, ngram_range=(1, 3))\n",
    "X = vectorizer.fit_transform(corpus)"
   ]
  },
  {
   "cell_type": "code",
   "execution_count": 14,
   "metadata": {},
   "outputs": [
    {
     "data": {
      "text/plain": [
       "<1x189677 sparse matrix of type '<class 'numpy.float64'>'\n",
       "\twith 232 stored elements in Compressed Sparse Row format>"
      ]
     },
     "execution_count": 14,
     "metadata": {},
     "output_type": "execute_result"
    }
   ],
   "source": [
    "X[0]"
   ]
  },
  {
   "cell_type": "code",
   "execution_count": 15,
   "metadata": {},
   "outputs": [
    {
     "name": "stdout",
     "output_type": "stream",
     "text": [
      "  (0, 186434)\t0.073652687439\n",
      "  (0, 99576)\t0.0496312141805\n",
      "  (0, 39499)\t0.0506536592862\n",
      "  (0, 39489)\t0.0506536592862\n",
      "  (0, 60531)\t0.0237947331321\n",
      "  (0, 161758)\t0.0102159249934\n",
      "  (0, 52131)\t0.161320245937\n",
      "  (0, 68764)\t0.124858693402\n",
      "  (0, 122169)\t0.0102983950679\n",
      "  (0, 30196)\t0.030697863019\n",
      "  (0, 158870)\t0.0373315183174\n",
      "  (0, 175418)\t0.0179872336028\n",
      "  (0, 114553)\t0.0608545549183\n",
      "  (0, 175382)\t0.0392526458093\n",
      "  (0, 48932)\t0.0389063101002\n",
      "  (0, 163827)\t0.0608545549183\n",
      "  (0, 101375)\t0.0102777150507\n",
      "  (0, 7924)\t0.0376276528198\n",
      "  (0, 26496)\t0.0161246502539\n",
      "  (0, 95355)\t0.11069641419\n",
      "  (0, 17299)\t0.073652687439\n",
      "  (0, 41420)\t0.104818537242\n",
      "  (0, 38247)\t0.0992624283609\n",
      "  (0, 122784)\t0.11069641419\n",
      "  (0, 143768)\t0.0553482070951\n",
      "  :\t:\n",
      "  (0, 64945)\t0.073652687439\n",
      "  (0, 36448)\t0.073652687439\n",
      "  (0, 52249)\t0.073652687439\n",
      "  (0, 60032)\t0.073652687439\n",
      "  (0, 165609)\t0.073652687439\n",
      "  (0, 115396)\t0.073652687439\n",
      "  (0, 98564)\t0.073652687439\n",
      "  (0, 143532)\t0.073652687439\n",
      "  (0, 133574)\t0.073652687439\n",
      "  (0, 95951)\t0.073652687439\n",
      "  (0, 104171)\t0.073652687439\n",
      "  (0, 64959)\t0.073652687439\n",
      "  (0, 120118)\t0.073652687439\n",
      "  (0, 180956)\t0.073652687439\n",
      "  (0, 163238)\t0.073652687439\n",
      "  (0, 114755)\t0.073652687439\n",
      "  (0, 67208)\t0.073652687439\n",
      "  (0, 103679)\t0.073652687439\n",
      "  (0, 133659)\t0.073652687439\n",
      "  (0, 78565)\t0.073652687439\n",
      "  (0, 64821)\t0.073652687439\n",
      "  (0, 146368)\t0.073652687439\n",
      "  (0, 29674)\t0.073652687439\n",
      "  (0, 188947)\t0.073652687439\n",
      "  (0, 52209)\t0.073652687439\n"
     ]
    }
   ],
   "source": [
    "print(X[0])"
   ]
  },
  {
   "cell_type": "code",
   "execution_count": 17,
   "metadata": {},
   "outputs": [
    {
     "data": {
      "text/plain": [
       "(994, 189677)"
      ]
     },
     "execution_count": 17,
     "metadata": {},
     "output_type": "execute_result"
    }
   ],
   "source": [
    "X.shape"
   ]
  },
  {
   "cell_type": "code",
   "execution_count": 18,
   "metadata": {},
   "outputs": [
    {
     "data": {
      "text/plain": [
       "TruncatedSVD(algorithm='randomized', n_components=27, n_iter=100,\n",
       "       random_state=None, tol=0.0)"
      ]
     },
     "execution_count": 18,
     "metadata": {},
     "output_type": "execute_result"
    }
   ],
   "source": [
    "lsa = TruncatedSVD(n_components=27, n_iter=100)\n",
    "lsa.fit(X)"
   ]
  },
  {
   "cell_type": "code",
   "execution_count": 19,
   "metadata": {},
   "outputs": [
    {
     "data": {
      "text/plain": [
       "array([ 0.01619471,  0.00506054,  0.00080803, ...,  0.00105799,\n",
       "        0.00105799,  0.00105799])"
      ]
     },
     "execution_count": 19,
     "metadata": {},
     "output_type": "execute_result"
    }
   ],
   "source": [
    "lsa.components_[0]"
   ]
  },
  {
   "cell_type": "code",
   "execution_count": 20,
   "metadata": {},
   "outputs": [
    {
     "name": "stdout",
     "output_type": "stream",
     "text": [
      "3.6.1 |Anaconda 4.4.0 (x86_64)| (default, May 11 2017, 13:04:09) \n",
      "[GCC 4.2.1 Compatible Apple LLVM 6.0 (clang-600.0.57)]\n"
     ]
    }
   ],
   "source": [
    "import sys\n",
    "print (sys.version)"
   ]
  },
  {
   "cell_type": "code",
   "execution_count": 26,
   "metadata": {},
   "outputs": [
    {
     "name": "stdout",
     "output_type": "stream",
     "text": [
      "Concept 0:\n",
      "edu\n",
      "com\n",
      "year\n",
      "writes\n",
      "team\n",
      "would\n",
      "game\n",
      "article\n",
      "cs\n",
      "baseball\n",
      " \n",
      "Concept 1:\n",
      "jewish\n",
      "lafayette\n",
      "lafibm\n",
      "vb30\n",
      "jewish baseball\n",
      "edu vb30\n",
      "lafayette edu\n",
      "lafayette edu vb30\n",
      "lafibm lafayette\n",
      "lafibm lafayette edu\n",
      " \n",
      "Concept 2:\n",
      "indiana\n",
      "journalism\n",
      "journalism indiana\n",
      "journalism indiana edu\n",
      "indiana edu\n",
      "dwarner\n",
      "dwarner journalism\n",
      "dwarner journalism indiana\n",
      "03\n",
      "02\n",
      " \n",
      "Concept 3:\n",
      "03\n",
      "02\n",
      "04\n",
      "05\n",
      "01\n",
      "lost\n",
      "06\n",
      "03 03\n",
      "07\n",
      "00\n",
      " \n",
      "Concept 4:\n",
      "gatech\n",
      "duke\n",
      "gatech edu\n",
      "duke edu\n",
      "prism\n",
      "georgia\n",
      "econ duke\n",
      "econ\n",
      "prism gatech\n",
      "prism gatech edu\n",
      " \n",
      "Concept 5:\n",
      "duke\n",
      "duke edu\n",
      "gant\n",
      "econ duke\n",
      "econ\n",
      "econ duke edu\n",
      "fls\n",
      "hirschbeck\n",
      "fls econ\n",
      "fls econ duke\n",
      " \n",
      "Concept 6:\n",
      "ibm\n",
      "aix\n",
      "kingston\n",
      "ibm com\n",
      "mjones\n",
      "aix kingston\n",
      "aix kingston ibm\n",
      "kingston ibm\n",
      "kingston ibm com\n",
      "com\n",
      " \n",
      "Concept 7:\n",
      "bonds\n",
      "williams\n",
      "batting\n",
      "stanford\n",
      "batting 4th\n",
      "4th\n",
      "punjabi\n",
      "leland\n",
      "leland stanford\n",
      "leland stanford edu\n",
      " \n",
      "Concept 8:\n",
      "tesla\n",
      "njit\n",
      "njit edu\n",
      "tesla njit\n",
      "tesla njit edu\n",
      "best first\n",
      "mattingly\n",
      "best\n",
      "drm6640\n",
      "drm6640 tesla\n",
      " \n",
      "Concept 9:\n",
      "jhu\n",
      "jhu edu\n",
      "hcf\n",
      "hcf jhu\n",
      "hcf jhu edu\n",
      "jhunix\n",
      "jhunix hcf\n",
      "jhunix hcf jhu\n",
      "morris\n",
      "admiral\n",
      " \n",
      "Concept 10:\n",
      "jhu\n",
      "jhu edu\n",
      "hcf\n",
      "hcf jhu\n",
      "hcf jhu edu\n",
      "jhunix\n",
      "jhunix hcf\n",
      "jhunix hcf jhu\n",
      "admiral\n",
      "uiuc\n",
      " \n",
      "Concept 11:\n",
      "clutch\n",
      "netcom\n",
      "netcom com\n",
      "mark singer\n",
      "singer\n",
      "mss\n",
      "mss netcom\n",
      "mss netcom com\n",
      "com\n",
      "mark\n",
      " \n",
      "Concept 12:\n",
      "colorado\n",
      "adobe\n",
      "colorado edu\n",
      "scott\n",
      "adobe com\n",
      "sherri\n",
      "snichols\n",
      "snichols adobe\n",
      "snichols adobe com\n",
      "sherri nichols\n",
      " \n",
      "Concept 13:\n",
      "princeton\n",
      "roger\n",
      "princeton edu\n",
      "rickert\n",
      "hulman\n",
      "rose hulman\n",
      "rose\n",
      "edu roger\n",
      "princeton edu roger\n",
      "hulman edu\n",
      " \n",
      "Concept 14:\n",
      "adobe\n",
      "adobe com\n",
      "drake\n",
      "sherri\n",
      "snichols\n",
      "snichols adobe\n",
      "snichols adobe com\n",
      "sherri nichols\n",
      "nichols\n",
      "acad\n",
      " \n",
      "Concept 15:\n",
      "rickert\n",
      "hulman\n",
      "rose hulman\n",
      "colorado\n",
      "rose\n",
      "hulman edu\n",
      "rose hulman edu\n",
      "nextwork\n",
      "nextwork rose\n",
      "nextwork rose hulman\n",
      " \n",
      "Concept 16:\n",
      "upenn\n",
      "upenn edu\n",
      "mail sas\n",
      "mail sas upenn\n",
      "sas upenn\n",
      "sas upenn edu\n",
      "sas\n",
      "alan\n",
      "mail\n",
      "alan sepinwall\n",
      " \n",
      "Concept 17:\n",
      "hp\n",
      "hp com\n",
      "cv\n",
      "cv hp\n",
      "cv hp com\n",
      "com\n",
      "koufax cv\n",
      "koufax cv hp\n",
      "scott\n",
      "tesla\n",
      " \n",
      "Concept 18:\n",
      "maine\n",
      "hall\n",
      "hp\n",
      "cv\n",
      "cv hp\n",
      "cv hp com\n",
      "hp com\n",
      "koufax\n",
      "koufax cv\n",
      "koufax cv hp\n",
      " \n",
      "Concept 19:\n",
      "hp\n",
      "hp com\n",
      "koufax cv\n",
      "koufax cv hp\n",
      "cv\n",
      "cv hp\n",
      "cv hp com\n",
      "colorado\n",
      "koufax\n",
      "princeton\n",
      " \n",
      "Concept 20:\n",
      "maine\n",
      "maine edu\n",
      "maine maine\n",
      "maine maine edu\n",
      "university maine\n",
      "io20456\n",
      "io20456 maine\n",
      "io20456 maine maine\n",
      "robbins\n",
      "ryan robbins\n",
      " \n",
      "Concept 21:\n",
      "vma\n",
      "nd\n",
      "cc nd\n",
      "cc nd edu\n",
      "nd edu\n",
      "vma cc\n",
      "vma cc nd\n",
      "cc\n",
      "rvesterm\n",
      "rvesterm vma\n",
      " \n",
      "Concept 22:\n",
      "rickert\n",
      "hulman\n",
      "rose hulman\n",
      "hall\n",
      "rose\n",
      "hulman edu\n",
      "rose hulman edu\n",
      "nextwork\n",
      "nextwork rose\n",
      "nextwork rose hulman\n",
      " \n",
      "Concept 23:\n",
      "alomar\n",
      "baerga\n",
      "colorado\n",
      "hall\n",
      "kirsch\n",
      "dave\n",
      "hall fame\n",
      "fame\n",
      "obp\n",
      "niguma\n",
      " \n",
      "Concept 24:\n",
      "pitt\n",
      "pitt edu\n",
      "kirsch\n",
      "traven\n",
      "colorado\n",
      "david\n",
      "harry\n",
      "umn\n",
      "umn edu\n",
      "staff tc\n",
      " \n",
      "Concept 25:\n",
      "kirsch\n",
      "sox\n",
      "cornell\n",
      "umn\n",
      "umn edu\n",
      "staff tc\n",
      "staff tc umn\n",
      "tc\n",
      "tc umn\n",
      "tc umn edu\n",
      " \n",
      "Concept 26:\n",
      "maine\n",
      "drake\n",
      "acad\n",
      "acad drake\n",
      "acad drake edu\n",
      "drake edu\n",
      "cubs\n",
      "econ duke\n",
      "econ\n",
      "america\n",
      " \n"
     ]
    }
   ],
   "source": [
    "\n",
    "terms = vectorizer.get_feature_names()\n",
    "for i, comp in enumerate(lsa.components_): \n",
    "    termsInComp = zip (terms,comp)\n",
    "    sortedTerms =  sorted(termsInComp, key=lambda x: x[1], reverse=True) [:10]\n",
    "    print(\"Concept %d:\" % i )\n",
    "    for term in sortedTerms:\n",
    "        print(term[0])\n",
    "    print (\" \")"
   ]
  },
  {
   "cell_type": "code",
   "execution_count": 22,
   "metadata": {},
   "outputs": [
    {
     "data": {
      "text/plain": [
       "array([[ 0.01619471,  0.00506054,  0.00080803, ...,  0.00105799,\n",
       "         0.00105799,  0.00105799],\n",
       "       [-0.01000507, -0.00299041, -0.00068001, ..., -0.00051689,\n",
       "        -0.00051689, -0.00051689],\n",
       "       [ 0.03673343,  0.00819638,  0.00322531, ...,  0.00021742,\n",
       "         0.00021742,  0.00021742],\n",
       "       ..., \n",
       "       [-0.01217797, -0.00670602, -0.00093166, ...,  0.00221212,\n",
       "         0.00221212,  0.00221212],\n",
       "       [ 0.005552  ,  0.00418195,  0.00067904, ..., -0.00150587,\n",
       "        -0.00150587, -0.00150587],\n",
       "       [ 0.00397494,  0.00510563,  0.00035334, ..., -0.00076721,\n",
       "        -0.00076721, -0.00076721]])"
      ]
     },
     "execution_count": 22,
     "metadata": {},
     "output_type": "execute_result"
    }
   ],
   "source": [
    "lsa.components_"
   ]
  },
  {
   "cell_type": "code",
   "execution_count": null,
   "metadata": {
    "collapsed": true
   },
   "outputs": [],
   "source": []
  }
 ],
 "metadata": {
  "kernelspec": {
   "display_name": "Python 3",
   "language": "python",
   "name": "python3"
  },
  "language_info": {
   "codemirror_mode": {
    "name": "ipython",
    "version": 3
   },
   "file_extension": ".py",
   "mimetype": "text/x-python",
   "name": "python",
   "nbconvert_exporter": "python",
   "pygments_lexer": "ipython3",
   "version": "3.6.1"
  }
 },
 "nbformat": 4,
 "nbformat_minor": 2
}
